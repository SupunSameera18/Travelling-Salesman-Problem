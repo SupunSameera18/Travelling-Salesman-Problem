{
 "cells": [
  {
   "cell_type": "markdown",
   "id": "b157a799",
   "metadata": {},
   "source": [
    "## Travelling Salesman Problem using Back Tracking"
   ]
  },
  {
   "cell_type": "markdown",
   "id": "45d87ff0",
   "metadata": {},
   "source": [
    "## Code Explanation\n",
    "\n",
    "This code is an implementation of the traveling salesmanperson problem (TSP) using a backtracking algorithm. TSP is a well-known problem in computer science where the goal is to find the shortest possible route that visits each city exactly once and then returns to the starting city.\n",
    "\n",
    "The code defines a function called tsp that takes as input a graph, a list of visited nodes, the current position, the number of nodes in the graph, the count of visited nodes, and the current cost. If the function has visited all the nodes and there is an edge from the current node back to the starting node, it appends the total cost of the traversal to a global list called answer and returns.\n",
    "\n",
    "If not all the nodes have been visited, the function loops through each of the adjacent nodes of the current node. If the node has not been visited and there is an edge between the current node and that node, the function marks the node as visited, calls itself with the updated information, and then marks the node as unvisited. This process is repeated until all possible paths have been explored.\n",
    "\n",
    "Once all the paths have been explored, the minimum value in the answer list is printed, which is the minimum cost Hamiltonian cycle for the given graph."
   ]
  },
  {
   "cell_type": "markdown",
   "id": "3f2f6917",
   "metadata": {},
   "source": [
    "## Code Implementation"
   ]
  },
  {
   "cell_type": "code",
   "execution_count": 1,
   "id": "abdddc5b",
   "metadata": {},
   "outputs": [
    {
     "name": "stdout",
     "output_type": "stream",
     "text": [
      "Minimum cost: 933\n"
     ]
    }
   ],
   "source": [
    "def tsp(graph, v, currPos, n, count, cost):\n",
    " \n",
    "    # If last node is reached and it has\n",
    "    # a link to the starting node i.e\n",
    "    # the source then keep the minimum\n",
    "    # value out of the total cost of\n",
    "    # traversal and \"ans\"\n",
    "    # Finally return to check for\n",
    "    # more possible values\n",
    "    if (count == n and graph[currPos][0]):\n",
    "        answer.append(cost + graph[currPos][0])\n",
    "        return\n",
    " \n",
    "    # BACKTRACKING STEP\n",
    "    # Loop to traverse the adjacency list\n",
    "    # of currPos node and increasing the count\n",
    "    # by 1 and cost by graph[currPos][i] value\n",
    "    for i in range(n):\n",
    "        if (v[i] == False and graph[currPos][i]):\n",
    "             \n",
    "            # Mark as visited\n",
    "            v[i] = True\n",
    "            tsp(graph, v, i, n, count + 1,\n",
    "                cost + graph[currPos][i])\n",
    "             \n",
    "            # Mark ith node as unvisited\n",
    "            v[i] = False\n",
    " \n",
    "# Driver code\n",
    " \n",
    "# n is the number of nodes i.e. V\n",
    "if __name__ == '__main__':\n",
    "    n = 9\n",
    "    v = 9\n",
    "    answer = []\n",
    "    graph= [[0,225,304,236,213,339,187,197,226], [225, 0,140,153,15,175,84,160,110],\n",
    "            [304,140,0,152,132,41,121,190,108], [236,153,152,0,143,188,70,73,63],\n",
    "            [213,15,132,143,0,166,74,145,102], [339,175,41,188,166,0,157,226,144],\n",
    "             [187,84,121,70,74,157,0,81,43],[197,160,190,73,145,226,81,0,90],[226,110,108,63,102,144,43,90,0]]\n",
    " \n",
    "    # Boolean array to check if a node\n",
    "    # has been visited or not\n",
    "    v = [False for i in range(n)]\n",
    "     \n",
    "    # Mark 0th node as visited\n",
    "    v[0] = True\n",
    " \n",
    "    # Find the minimum weight Hamiltonian Cycle\n",
    "    tsp(graph, v, 0, n, 1, 0)\n",
    " \n",
    "    # ans is the minimum weight Hamiltonian Cycle\n",
    "    print('Minimum cost: ' + str(min(answer)))"
   ]
  },
  {
   "cell_type": "code",
   "execution_count": null,
   "id": "3bdf046e",
   "metadata": {},
   "outputs": [],
   "source": []
  }
 ],
 "metadata": {
  "kernelspec": {
   "display_name": "Python 3 (ipykernel)",
   "language": "python",
   "name": "python3"
  },
  "language_info": {
   "codemirror_mode": {
    "name": "ipython",
    "version": 3
   },
   "file_extension": ".py",
   "mimetype": "text/x-python",
   "name": "python",
   "nbconvert_exporter": "python",
   "pygments_lexer": "ipython3",
   "version": "3.9.7"
  }
 },
 "nbformat": 4,
 "nbformat_minor": 5
}
