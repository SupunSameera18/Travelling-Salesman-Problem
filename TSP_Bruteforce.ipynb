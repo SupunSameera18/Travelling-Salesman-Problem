{
 "cells": [
  {
   "cell_type": "markdown",
   "id": "5c445d74",
   "metadata": {},
   "source": [
    "## Travelling Salesman Problem using Brute Force"
   ]
  },
  {
   "cell_type": "markdown",
   "id": "324dd512",
   "metadata": {},
   "source": [
    "## Code Explanation\n",
    "\n",
    "In this code, the input to the 'travellingSalesmanProblem' function is a graph represented as an adjacency matrix graph, where graph [i][j] represents the weight of the edge between cities 'i' and 'j'. The starting city is represented by the variable 's'.\n",
    "\n",
    "The function first creates a list vertex that contains all the cities in the graph, except for the starting city 's'. Then, it uses the permutations function from the itertools library to generate all possible permutations of the cities in vertex. For each permutation, the function computes the total weight of the path that visits each city in the permutation, starting from the starting city 's'. The function then keeps track of the minimum path weight found so far, and returns this minimum value at the end.\n",
    "\n",
    "In this way, the function returns the minimum weight of a Hamiltonian cycle (a cycle that visits every city exactly once) in the given graph, starting from the city 's'.\n"
   ]
  },
  {
   "cell_type": "markdown",
   "id": "39649967",
   "metadata": {},
   "source": [
    "## Code Implementation"
   ]
  },
  {
   "cell_type": "code",
   "execution_count": 32,
   "id": "5514ac45",
   "metadata": {},
   "outputs": [],
   "source": [
    "# import required libraries\n",
    "from sys import maxsize\n",
    "from itertools import permutations\n",
    "V = 9"
   ]
  },
  {
   "cell_type": "code",
   "execution_count": 33,
   "id": "16102ca9",
   "metadata": {},
   "outputs": [],
   "source": [
    "# implementation of traveling Salesman Problem\n",
    "def travellingSalesmanProblem(graph, s):\n",
    "\n",
    "# store all vertex apart from source vertex\n",
    "    vertex = []\n",
    "    for i in range(V):\n",
    "        if i != s:\n",
    "            vertex.append(i)\n",
    "\n",
    "        # store minimum weight Hamiltonian Cycle\n",
    "    min_path = maxsize\n",
    "    next_permutation=permutations(vertex)\n",
    "    for i in next_permutation:\n",
    "\n",
    "        # store current Path weight(cost)\n",
    "        current_pathweight = 0\n",
    "\n",
    "        # compute current path weight\n",
    "        k = s\n",
    "        for j in i:\n",
    "            current_pathweight += graph[k][j]\n",
    "            k = j\n",
    "        current_pathweight += graph[k][s]\n",
    "\n",
    "        # update minimum\n",
    "        min_path = min(min_path, current_pathweight)\n",
    "\n",
    "    return min_path\n",
    "\n"
   ]
  },
  {
   "cell_type": "code",
   "execution_count": 37,
   "id": "d3c0ea0b",
   "metadata": {
    "scrolled": true
   },
   "outputs": [
    {
     "name": "stdout",
     "output_type": "stream",
     "text": [
      "Minimum cost:933\n"
     ]
    }
   ],
   "source": [
    "\n",
    "# Driver Code\n",
    "if __name__ == \"__main__\":\n",
    "\n",
    "    # matrix representation of graph\n",
    "    graph = [[0,225,304,236,213,339,187,197,226], [225, 0,140,153,15,175,84,160,110],\n",
    "            [304,140,0,152,132,41,121,190,108], [236,153,152,0,143,188,70,73,63],\n",
    "            [213,15,132,143,0,166,74,145,102], [339,175,41,188,166,0,157,226,144],\n",
    "             [187,84,121,70,74,157,0,81,43],[197,160,190,73,145,226,81,0,90],[226,110,108,63,102,144,43,90,0]]\n",
    "    s = 0\n",
    "    print('Minimum cost:' + str(travellingSalesmanProblem(graph, s)))\n",
    "    "
   ]
  },
  {
   "cell_type": "code",
   "execution_count": null,
   "id": "fdd9f026",
   "metadata": {},
   "outputs": [],
   "source": [
    "\n",
    "      "
   ]
  },
  {
   "cell_type": "code",
   "execution_count": null,
   "id": "4c639546",
   "metadata": {},
   "outputs": [],
   "source": []
  }
 ],
 "metadata": {
  "kernelspec": {
   "display_name": "Python 3 (ipykernel)",
   "language": "python",
   "name": "python3"
  },
  "language_info": {
   "codemirror_mode": {
    "name": "ipython",
    "version": 3
   },
   "file_extension": ".py",
   "mimetype": "text/x-python",
   "name": "python",
   "nbconvert_exporter": "python",
   "pygments_lexer": "ipython3",
   "version": "3.9.7"
  }
 },
 "nbformat": 4,
 "nbformat_minor": 5
}
